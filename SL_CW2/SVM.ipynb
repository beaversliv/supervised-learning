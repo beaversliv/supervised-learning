{
 "cells": [
  {
   "cell_type": "code",
   "execution_count": null,
   "metadata": {},
   "outputs": [],
   "source": []
  },
  {
   "cell_type": "code",
   "execution_count": 121,
   "metadata": {},
   "outputs": [],
   "source": [
    "import os\n",
    "import os.path\n",
    "import time\n",
    "from datetime import datetime\n",
    "import numpy as np\n",
    "import math\n",
    "import matplotlib.pyplot as plt \n",
    "import scipy\n",
    "import scipy.io as spio\n",
    "import pandas as pd\n",
    "from sklearn.model_selection import KFold\n",
    "from sklearn.model_selection import train_test_split\n",
    "from sklearn import svm\n",
    "import urllib\n",
    "import urllib.request\n",
    "from urllib.request import urlopen\n",
    "%matplotlib inline"
   ]
  },
  {
   "cell_type": "code",
   "execution_count": 135,
   "metadata": {},
   "outputs": [],
   "source": [
    "## Import data\n",
    "training_filename = 'dtrain123.dat'\n",
    "test_filename = 'dtest123.dat'\n",
    "filename = 'zipcombo.dat'\n",
    "data = np.loadtxt(filename)\n",
    "## define feature vector x and true value y\n",
    "x = data[:,1:]\n",
    "y = data[:,0]"
   ]
  },
  {
   "cell_type": "code",
   "execution_count": 123,
   "metadata": {},
   "outputs": [],
   "source": [
    "def construct_table(training_set_errors,test_set_errors):\n",
    "    train_mean=np.mean(training_set_errors,axis=1)\n",
    "    train_std=np.std(training_set_errors,axis=1)\n",
    "    test_mean=np.mean(test_set_errors,axis=1)\n",
    "    test_std=np.std(test_set_errors,axis=1)\n",
    "\n",
    "    mean_std = []\n",
    "    for i in range(len(train_mean)):\n",
    "        data_t = []\n",
    "        colomn_1 = \"{0:.4f} +- {1:.4f}\".format(train_mean[i]*100,train_std[i]*100)\n",
    "        data_t.append(colomn_1)\n",
    "        colomn_2 = \"{0:.4f} +- {1:.4f}\".format(test_mean[i]*100,test_std[i]*100)    \n",
    "        data_t.append(colomn_2)\n",
    "        mean_std.append(data_t)\n",
    "    return mean_std"
   ]
  },
  {
   "cell_type": "code",
   "execution_count": 124,
   "metadata": {},
   "outputs": [],
   "source": [
    "def basic_results_svm(x,y,cost_range,kernel_choice,runs):\n",
    "    \"\"\"\n",
    "    Performs 'runs' iterations over the data set and each iteration:\n",
    "    - for every kernel choice found in kernels array\n",
    "        - for every value of C found in cost_range array\n",
    "            Trains an SVM predictor with this combination on a random 80% portion of the data.\n",
    "            Evaluates the prediction error as observed in the remaining 20% of the data.\n",
    "    :param cost_range: an array of C values\n",
    "    :param kernels: an array of kernel choices (must be a supported value in scikit-learn's SVC implementation)\n",
    "    :param runs: the number of iterations to perform\n",
    "    :return: two arrays: the error rates as observed in the training set and test set respectively.\n",
    "    \"\"\"\n",
    "    training_set_errors = np.zeros((len(cost_range), runs))\n",
    "    test_set_errors = np.zeros((len(cost_range), runs))\n",
    "    \n",
    "    for c in range(len(cost_range)):\n",
    "        cost = cost_range[c]\n",
    "        for i in range(runs):\n",
    "            print(\"Now doing run \", i+1, \"/\", runs, \" for \",\", c=\",cost,\".........\", end='\\r')\n",
    "            X_train, X_test, y_train, y_test = train_test_split(x, y, test_size=0.2, shuffle=True)\n",
    "\n",
    "            svm_classifier = svm.SVC(C=cost, kernel='poly', gamma='scale')\n",
    "            svm_classifier.fit(X_train, y_train)\n",
    "\n",
    "            test_labels = svm_classifier.predict(X_test)\n",
    "            test_errors = sum(y_test != test_labels) / len(y_test)\n",
    "\n",
    "            train_labels = svm_classifier.predict(X_train)\n",
    "            train_errors = sum(y_train != train_labels) / len(y_train)\n",
    "\n",
    "            training_set_errors[c, i] = train_errors\n",
    "            test_set_errors[c, i] = test_errors\n",
    "\n",
    "    return training_set_errors, test_set_errors"
   ]
  },
  {
   "cell_type": "markdown",
   "metadata": {},
   "source": [
    "## Poly kernel and C"
   ]
  },
  {
   "cell_type": "code",
   "execution_count": 125,
   "metadata": {},
   "outputs": [
    {
     "name": "stdout",
     "output_type": "stream",
     "text": [
      "Time taken:  0:25:49.845641  , c= 1000 .........\n"
     ]
    }
   ],
   "source": [
    "cost_range = [ 0.01, 0.1, 10, 100, 1000]\n",
    "startTime = datetime.now()\n",
    "svm_training_set_errors_poly, svm_test_set_errors_poly = basic_results_svm(x,y,cost_range,'poly',runs)\n",
    "time_svm_poly_basic = datetime.now() - startTime\n",
    "print(\"Time taken: \", time_svm_poly_basic)"
   ]
  },
  {
   "cell_type": "code",
   "execution_count": 147,
   "metadata": {},
   "outputs": [
    {
     "data": {
      "text/html": [
       "<div>\n",
       "<style scoped>\n",
       "    .dataframe tbody tr th:only-of-type {\n",
       "        vertical-align: middle;\n",
       "    }\n",
       "\n",
       "    .dataframe tbody tr th {\n",
       "        vertical-align: top;\n",
       "    }\n",
       "\n",
       "    .dataframe thead th {\n",
       "        text-align: right;\n",
       "    }\n",
       "</style>\n",
       "<table border=\"1\" class=\"dataframe\">\n",
       "  <thead>\n",
       "    <tr style=\"text-align: right;\">\n",
       "      <th></th>\n",
       "      <th>train_mean_std(%)</th>\n",
       "      <th>test_mean_std(%)</th>\n",
       "    </tr>\n",
       "  </thead>\n",
       "  <tbody>\n",
       "    <tr>\n",
       "      <th>0.01</th>\n",
       "      <td>8.8088 +- 0.1653</td>\n",
       "      <td>9.1371 +- 0.6358</td>\n",
       "    </tr>\n",
       "    <tr>\n",
       "      <th>0.10</th>\n",
       "      <td>2.3602 +- 0.0904</td>\n",
       "      <td>3.4167 +- 0.3811</td>\n",
       "    </tr>\n",
       "    <tr>\n",
       "      <th>10.00</th>\n",
       "      <td>0.0208 +- 0.0067</td>\n",
       "      <td>2.2070 +- 0.3411</td>\n",
       "    </tr>\n",
       "    <tr>\n",
       "      <th>100.00</th>\n",
       "      <td>0.0087 +- 0.0064</td>\n",
       "      <td>2.2339 +- 0.2140</td>\n",
       "    </tr>\n",
       "    <tr>\n",
       "      <th>1000.00</th>\n",
       "      <td>0.0000 +- 0.0000</td>\n",
       "      <td>2.2608 +- 0.3342</td>\n",
       "    </tr>\n",
       "  </tbody>\n",
       "</table>\n",
       "</div>"
      ],
      "text/plain": [
       "        train_mean_std(%)  test_mean_std(%)\n",
       "0.01     8.8088 +- 0.1653  9.1371 +- 0.6358\n",
       "0.10     2.3602 +- 0.0904  3.4167 +- 0.3811\n",
       "10.00    0.0208 +- 0.0067  2.2070 +- 0.3411\n",
       "100.00   0.0087 +- 0.0064  2.2339 +- 0.2140\n",
       "1000.00  0.0000 +- 0.0000  2.2608 +- 0.3342"
      ]
     },
     "execution_count": 147,
     "metadata": {},
     "output_type": "execute_result"
    }
   ],
   "source": [
    "mean_std=construct_table(svm_training_set_errors_poly,svm_test_set_errors_poly)\n",
    "pd.DataFrame(data=mean_std,index=cost_range,columns=['train_mean_std(%)','test_mean_std(%)'])"
   ]
  },
  {
   "cell_type": "markdown",
   "metadata": {},
   "source": [
    "## Gaussian Kernel of C"
   ]
  },
  {
   "cell_type": "code",
   "execution_count": 140,
   "metadata": {},
   "outputs": [
    {
     "name": "stdout",
     "output_type": "stream",
     "text": [
      "Time taken:  0:26:11.290748  , c= 1000 .........\n"
     ]
    }
   ],
   "source": [
    "cost_range = [ 0.01, 0.1, 10, 100, 1000]\n",
    "startTime = datetime.now()\n",
    "svm_training_set_errors_rbf, svm_test_set_errors_rbf = basic_results_svm(x,y,cost_range,'rbf',runs)\n",
    "time_svm_rbf_basic = datetime.now() - startTime\n",
    "print(\"Time taken: \", time_svm_rbf_basic)"
   ]
  },
  {
   "cell_type": "code",
   "execution_count": 148,
   "metadata": {},
   "outputs": [
    {
     "data": {
      "text/html": [
       "<div>\n",
       "<style scoped>\n",
       "    .dataframe tbody tr th:only-of-type {\n",
       "        vertical-align: middle;\n",
       "    }\n",
       "\n",
       "    .dataframe tbody tr th {\n",
       "        vertical-align: top;\n",
       "    }\n",
       "\n",
       "    .dataframe thead th {\n",
       "        text-align: right;\n",
       "    }\n",
       "</style>\n",
       "<table border=\"1\" class=\"dataframe\">\n",
       "  <thead>\n",
       "    <tr style=\"text-align: right;\">\n",
       "      <th></th>\n",
       "      <th>train_mean_std(%)</th>\n",
       "      <th>test_mean_std(%)</th>\n",
       "    </tr>\n",
       "  </thead>\n",
       "  <tbody>\n",
       "    <tr>\n",
       "      <th>0.01</th>\n",
       "      <td>8.7308 +- 0.1567</td>\n",
       "      <td>9.2903 +- 0.5797</td>\n",
       "    </tr>\n",
       "    <tr>\n",
       "      <th>0.10</th>\n",
       "      <td>2.3165 +- 0.0675</td>\n",
       "      <td>3.6720 +- 0.3925</td>\n",
       "    </tr>\n",
       "    <tr>\n",
       "      <th>10.00</th>\n",
       "      <td>0.0195 +- 0.0079</td>\n",
       "      <td>2.0645 +- 0.2907</td>\n",
       "    </tr>\n",
       "    <tr>\n",
       "      <th>100.00</th>\n",
       "      <td>0.0087 +- 0.0064</td>\n",
       "      <td>2.1102 +- 0.3274</td>\n",
       "    </tr>\n",
       "    <tr>\n",
       "      <th>1000.00</th>\n",
       "      <td>0.0000 +- 0.0000</td>\n",
       "      <td>2.3495 +- 0.2423</td>\n",
       "    </tr>\n",
       "  </tbody>\n",
       "</table>\n",
       "</div>"
      ],
      "text/plain": [
       "        train_mean_std(%)  test_mean_std(%)\n",
       "0.01     8.7308 +- 0.1567  9.2903 +- 0.5797\n",
       "0.10     2.3165 +- 0.0675  3.6720 +- 0.3925\n",
       "10.00    0.0195 +- 0.0079  2.0645 +- 0.2907\n",
       "100.00   0.0087 +- 0.0064  2.1102 +- 0.3274\n",
       "1000.00  0.0000 +- 0.0000  2.3495 +- 0.2423"
      ]
     },
     "execution_count": 148,
     "metadata": {},
     "output_type": "execute_result"
    }
   ],
   "source": [
    "Gaussian_mean_std=construct_table(svm_training_set_errors_rbf,svm_test_set_errors_rbf)\n",
    "pd.DataFrame(data=Gaussian_mean_std,index=cost_range,columns=['train_mean_std(%)','test_mean_std(%)'])"
   ]
  },
  {
   "cell_type": "markdown",
   "metadata": {},
   "source": [
    "## Gamma of Gaussian Kernel"
   ]
  },
  {
   "cell_type": "code",
   "execution_count": 142,
   "metadata": {},
   "outputs": [],
   "source": [
    "def basic_results_svm_2(x,y,Gamma,kernel,runs):\n",
    "    \n",
    "    G_training_set_errors = np.zeros((len(Gamma), runs))\n",
    "    G_test_set_errors = np.zeros((len(Gamma), runs))\n",
    "\n",
    "    for coefficient in range(len(Gamma)):\n",
    "        g = Gamma[coefficient]\n",
    "        for i in range(runs):\n",
    "            print(\"Now doing run \", i+1, \"/\", runs, \" for gamma=\", g,\".........\", end='\\r')\n",
    "            X_train, X_test, y_train, y_test = train_test_split(x, y, test_size=0.2, shuffle=True)\n",
    "\n",
    "            svm_classifier = svm.SVC(C=1,kernel='rbf',gamma =g)\n",
    "            svm_classifier.fit(X_train, y_train)\n",
    "\n",
    "            train_labels = svm_classifier.predict(X_train)\n",
    "            train_errors = sum(y_train != train_labels) / y_train.shape[0]\n",
    "\n",
    "            test_labels = svm_classifier.predict(X_test)\n",
    "            test_errors = sum(y_test != test_labels) / y_test.shape[0]\n",
    "\n",
    "\n",
    "            G_training_set_errors[coefficient, i] = train_errors / y_train.shape[0]\n",
    "            G_test_set_errors[coefficient, i] = test_errors / y_test.shape[0]\n",
    "    \n",
    "    return training_set_errors, test_set_errors"
   ]
  },
  {
   "cell_type": "code",
   "execution_count": 143,
   "metadata": {},
   "outputs": [
    {
     "name": "stdout",
     "output_type": "stream",
     "text": [
      "Now doing run  20 / 20  for gamma= 1000.0 .........\n",
      "Time taken:  1:21:54.261029\n"
     ]
    }
   ],
   "source": [
    "Gamma = np.array([0.01, 0.1, 10, 100, 1000])\n",
    "startTime = datetime.now()\n",
    "G_training_set_errors, G_test_set_errors=basic_results_svm_2(x,y,Gamma,'rbf',runs)\n",
    "time_svm_cost_basic = datetime.now() - startTime\n",
    "print(\"\\nTime taken: \", time_svm_cost_basic)"
   ]
  },
  {
   "cell_type": "code",
   "execution_count": 144,
   "metadata": {},
   "outputs": [
    {
     "data": {
      "text/html": [
       "<div>\n",
       "<style scoped>\n",
       "    .dataframe tbody tr th:only-of-type {\n",
       "        vertical-align: middle;\n",
       "    }\n",
       "\n",
       "    .dataframe tbody tr th {\n",
       "        vertical-align: top;\n",
       "    }\n",
       "\n",
       "    .dataframe thead th {\n",
       "        text-align: right;\n",
       "    }\n",
       "</style>\n",
       "<table border=\"1\" class=\"dataframe\">\n",
       "  <thead>\n",
       "    <tr style=\"text-align: right;\">\n",
       "      <th></th>\n",
       "      <th>train_mean_std(%)</th>\n",
       "      <th>test_mean_std(%)</th>\n",
       "    </tr>\n",
       "  </thead>\n",
       "  <tbody>\n",
       "    <tr>\n",
       "      <th>0.01</th>\n",
       "      <td>21.5858 +- 0.3486</td>\n",
       "      <td>22.0887 +- 0.8792</td>\n",
       "    </tr>\n",
       "    <tr>\n",
       "      <th>0.10</th>\n",
       "      <td>4.5335 +- 0.1084</td>\n",
       "      <td>5.0941 +- 0.4055</td>\n",
       "    </tr>\n",
       "    <tr>\n",
       "      <th>10.00</th>\n",
       "      <td>0.0309 +- 0.0121</td>\n",
       "      <td>2.2258 +- 0.2437</td>\n",
       "    </tr>\n",
       "    <tr>\n",
       "      <th>100.00</th>\n",
       "      <td>0.0128 +- 0.0029</td>\n",
       "      <td>2.3522 +- 0.2767</td>\n",
       "    </tr>\n",
       "    <tr>\n",
       "      <th>1000.00</th>\n",
       "      <td>0.0000 +- 0.0000</td>\n",
       "      <td>2.2742 +- 0.2845</td>\n",
       "    </tr>\n",
       "  </tbody>\n",
       "</table>\n",
       "</div>"
      ],
      "text/plain": [
       "         train_mean_std(%)   test_mean_std(%)\n",
       "0.01     21.5858 +- 0.3486  22.0887 +- 0.8792\n",
       "0.10      4.5335 +- 0.1084   5.0941 +- 0.4055\n",
       "10.00     0.0309 +- 0.0121   2.2258 +- 0.2437\n",
       "100.00    0.0128 +- 0.0029   2.3522 +- 0.2767\n",
       "1000.00   0.0000 +- 0.0000   2.2742 +- 0.2845"
      ]
     },
     "execution_count": 144,
     "metadata": {},
     "output_type": "execute_result"
    }
   ],
   "source": [
    "Gmean_std=construct_table(G_training_set_errors,G_test_set_errors)\n",
    "pd.DataFrame(data=Gmean_std,index=Gamma,columns=['train_mean_std(%)','test_mean_std(%)'])"
   ]
  },
  {
   "cell_type": "markdown",
   "metadata": {},
   "source": [
    "## Cross validation for cost in 2 kernels"
   ]
  },
  {
   "cell_type": "code",
   "execution_count": 130,
   "metadata": {},
   "outputs": [],
   "source": [
    "def cross_validation_svm(x,y,c,kernel_choice,k):\n",
    "    \"\"\"\n",
    "    This function performs a k-fold cross validation on X, using a kernel of \"kernel_choice\" with parameter d.\n",
    "    :param X: the observations array\n",
    "    :param y: the labels vector\n",
    "    :param kernel_choice: Depending on the kernel choice, can be {'Polynomial', 'Gaussian'}\n",
    "    :param d: the parameter of the kernel\n",
    "    :param k: the number of splits, i.e. the k parameter in k-fold Cross Validation\n",
    "    :return: the mean of test error across the k runs of the CV process and its standard deviation\n",
    "    \"\"\"\n",
    "    kf = KFold(n_splits=k, shuffle=True)\n",
    "    mistake_arr = np.zeros(k)\n",
    "    i = 0\n",
    "    \n",
    "    for train_index, cv_index in kf.split(x):\n",
    "        # Spit the matrix using the indices gained by the CV method and construct X and Y arrays\n",
    "        X_train = x[train_index]\n",
    "        X_cv = x[cv_index]\n",
    "        y_train = y[train_index]\n",
    "        y_cv = y[cv_index]\n",
    "    \n",
    "        # We are only interested in the alphas and not the MSE on the training set\n",
    "        \n",
    "        svm_classifier = svm.SVC(C=c, kernel=kernel_choice, gamma='scale')\n",
    "        svm_classifier.fit(X_train, y_train)\n",
    "        predicted_labels = svm_classifier.predict(X_cv)\n",
    "        \n",
    "        mistakes = sum(y_cv != predicted_labels)\n",
    "        mistake_arr[i] = mistakes / len(y_cv)\n",
    "        i += 1\n",
    "        \n",
    "    return mistake_arr.mean()"
   ]
  },
  {
   "cell_type": "code",
   "execution_count": 131,
   "metadata": {},
   "outputs": [],
   "source": [
    "def cv_process_svm(c_arr, runs, kernel_choice,x,y):\n",
    "    \"\"\"\n",
    "    This function performs 5-fold cross validation, multiple times (specified by runs argument) across the different\n",
    "    values of d specified in d_arr using the kernel specified in kernel_choice\n",
    "    :param d_arr: an array of d values\n",
    "    :param runs: The number of runs to repeat the CV process\n",
    "    :param kernel_choice: Depending on the kernel choice, can be {'Polynomial', 'Gaussian'}\n",
    "    :param calculate_confusions: Whether or not to also calculate confusions on the test set\n",
    "    :return: the array of d_stars, the test_errors and the confusions found\n",
    "    \"\"\"\n",
    "    c_stars = np.zeros(runs)\n",
    "    test_errors = np.zeros(runs)\n",
    "    for run in range(runs):\n",
    "        single_confusion_mtx = np.zeros(shape = (10,10))\n",
    "        # In each run we will iterate through the d array and use all possible values of d\n",
    "        # Allocate 80/20 percent for training and test set\n",
    "        X_train, X_test, y_train, y_test = train_test_split(x, y, test_size=0.2, shuffle=True)\n",
    "\n",
    "        CV_means = np.zeros(len(c_arr))\n",
    "        for i in range(len(c_arr)):\n",
    "            print(\"Now doing run \", run+1, \"/\", runs, \" for d=\", c_arr[i], \".........\", end='\\r')\n",
    "            mistake = cross_validation_svm(X_train, y_train,c_arr[i],kernel_choice, k=5)\n",
    "            CV_means[i] = mistake\n",
    "            \n",
    "        # Train in whole 80% now with c_star\n",
    "        c_stars[run] = c_arr[CV_means.argmin()]\n",
    "        # Train on whole of 80%\n",
    "        svm_classifier = svm.SVC(C=CV_means.argmin(), kernel=kernel_choice, gamma='scale')\n",
    "        svm_classifier.fit(X_train, y_train)\n",
    "        predicted_labels = svm_classifier.predict(X_test)\n",
    "        \n",
    "        test_error = sum(y_test != predicted_labels) / len(y_test)\n",
    "        test_errors[run] = test_error\n",
    "    return c_stars,test_errors"
   ]
  },
  {
   "cell_type": "markdown",
   "metadata": {},
   "source": [
    "## In Polynomial"
   ]
  },
  {
   "cell_type": "code",
   "execution_count": 146,
   "metadata": {},
   "outputs": [
    {
     "name": "stdout",
     "output_type": "stream",
     "text": [
      "Time taken:  0:52:12.543600 d= 1000.0 .........\n",
      "Mean c*:  253.0  with std:  375.5276288104512\n",
      "Mean test error(%):  2.1881720430107525  with std(%):  0.2783783541075187\n"
     ]
    }
   ],
   "source": [
    "runs = 20\n",
    "c_arr = np.array([0.01,0.1, 10, 100, 1000])\n",
    "startTime = datetime.now()\n",
    "c_stars_array, test_errors_array = cv_process_svm(c_arr, runs,'poly',x,y)\n",
    "time_CV_p_SVM = datetime.now() - startTime\n",
    "print(\"Time taken: \", time_CV_p_SVM)\n",
    "print(\"Mean c*: \", c_stars_array.mean(), \" with std: \", np.std(c_stars_array))\n",
    "print(\"Mean test error(%): \", test_errors_array.mean()*100, \" with std(%): \", np.std(test_errors_array)*100)"
   ]
  },
  {
   "cell_type": "markdown",
   "metadata": {},
   "source": [
    "## In Gaussian"
   ]
  },
  {
   "cell_type": "code",
   "execution_count": 139,
   "metadata": {},
   "outputs": [
    {
     "name": "stdout",
     "output_type": "stream",
     "text": [
      "Time taken:  1:10:14.348494 d= 1000.0 .........\n",
      "Mean c*:  100.0  with std:  211.06870919205434\n",
      "Mean test error(%):  0.022016129032258063  with std(%):  0.002887627351578855\n"
     ]
    }
   ],
   "source": [
    "runs = 20\n",
    "c_arr = np.array([0.01,0.1, 10, 100, 1000])\n",
    "startTime = datetime.now()\n",
    "c_stars_array, test_errors_array = cv_process_svm(c_arr, runs,'rbf',x,y)\n",
    "time_CV_G_SVM = datetime.now() - startTime\n",
    "print(\"Time taken: \", time_CV_G_SVM)\n",
    "print(\"Mean c*: \", c_stars_array.mean(), \" with std: \", np.std(c_stars_array))\n",
    "print(\"Mean test error(%): \", test_errors_array.mean()*100, \" with std(%): \", np.std(test_errors_array)*100)"
   ]
  },
  {
   "cell_type": "code",
   "execution_count": null,
   "metadata": {},
   "outputs": [],
   "source": []
  }
 ],
 "metadata": {
  "kernelspec": {
   "display_name": "Python 3",
   "language": "python",
   "name": "python3"
  },
  "language_info": {
   "codemirror_mode": {
    "name": "ipython",
    "version": 3
   },
   "file_extension": ".py",
   "mimetype": "text/x-python",
   "name": "python",
   "nbconvert_exporter": "python",
   "pygments_lexer": "ipython3",
   "version": "3.7.6"
  },
  "varInspector": {
   "cols": {
    "lenName": 16,
    "lenType": 16,
    "lenVar": 40
   },
   "kernels_config": {
    "python": {
     "delete_cmd_postfix": "",
     "delete_cmd_prefix": "del ",
     "library": "var_list.py",
     "varRefreshCmd": "print(var_dic_list())"
    },
    "r": {
     "delete_cmd_postfix": ") ",
     "delete_cmd_prefix": "rm(",
     "library": "var_list.r",
     "varRefreshCmd": "cat(var_dic_list()) "
    }
   },
   "types_to_exclude": [
    "module",
    "function",
    "builtin_function_or_method",
    "instance",
    "_Feature"
   ],
   "window_display": false
  }
 },
 "nbformat": 4,
 "nbformat_minor": 4
}
